{
    "metadata": {
        "kernelspec": {
            "name": "SQL",
            "display_name": "SQL",
            "language": "sql"
        },
        "language_info": {
            "name": "sql",
            "version": ""
        }
    },
    "nbformat_minor": 2,
    "nbformat": 4,
    "cells": [
        {
            "cell_type": "markdown",
            "source": [
                "## Exploring Permissions\n",
                "\n",
                "What permissions can we grant? How are effective determined?"
            ],
            "metadata": {
                "azdata_cell_guid": "89179637-2ee7-47e4-9b97-ce28da3e5708"
            }
        },
        {
            "cell_type": "code",
            "source": [
                "/*  local server principals \r\n",
                "    note roles are simply principals */\r\n",
                "SELECT principal_id, name, type_desc, owning_principal_id, is_fixed_role\r\n",
                "FROM sys.server_principals\r\n",
                "WHERE name NOT LIKE '##%'\r\n",
                "    AND name NOT LIKE 'NT%'\r\n",
                "    AND name NOT LIKE 'lappytron%'\r\n",
                "ORDER BY is_fixed_role, name;\r\n",
                "\r\n",
                "/*  server_role_members is a lookup table to associate a server_principal \r\n",
                "    with server roles */\r\n",
                "SELECT drm.role_principal_id, dbroles.name AS RoleName, drm.member_principal_id, ISNULL (roleMember.name, 'No members') AS ServerPrincipal   \r\n",
                "FROM sys.server_role_members AS drm\r\n",
                "    RIGHT OUTER JOIN sys.server_principals AS dbroles ON drm.role_principal_id = dbroles.principal_id  \r\n",
                " LEFT OUTER JOIN sys.server_principals AS roleMember  \r\n",
                "   ON drm.member_principal_id = roleMember.principal_id  \r\n",
                "WHERE dbroles.type = 'R'\r\n",
                "    AND roleMember.name NOT LIKE '##%'\r\n",
                "    AND roleMember.name NOT LIKE 'NT%'\r\n",
                "    AND roleMember.name NOT LIKE 'lappytron%'\r\n",
                "ORDER BY dbroles.name, roleMember.name; \r\n",
                ""
            ],
            "metadata": {
                "azdata_cell_guid": "51865cec-fc9b-49c3-a2ca-eb6341c69eb2",
                "tags": [
                    "hide_input"
                ]
            },
            "outputs": [],
            "execution_count": null
        },
        {
            "cell_type": "code",
            "source": [
                "/*  granting specific permissions */\r\n",
                "\r\n",
                "GRANT ALTER ANY LOGIN TO accessTest AS sa;\r\n",
                "\r\n",
                "EXECUTE AS LOGIN = 'accessTest'\r\n",
                "\r\n",
                "CREATE LOGIN myNewLogin WITH PASSWORD = 'whocares';\r\n",
                "\r\n",
                "REVERT\r\n",
                "\r\n",
                "REVOKE ALTER ANY LOGIN TO accessTest AS sa;\r\n",
                ""
            ],
            "metadata": {
                "azdata_cell_guid": "88963722-71ce-43a6-99f9-33cc6b3360a6",
                "tags": [
                    "hide_input"
                ]
            },
            "outputs": [],
            "execution_count": null
        },
        {
            "cell_type": "code",
            "source": [
                "/*  permissions to permission can be given */\r\n",
                "--DROP LOGIN myNewLogin;\r\n",
                "--GO\r\n",
                "\r\n",
                "GRANT ALTER ANY LOGIN TO accessTest WITH GRANT OPTION AS sa;\r\n",
                "GRANT IMPERSONATE ANY LOGIN TO accessTest;\r\n",
                "\r\n",
                "EXECUTE AS LOGIN = 'accessTest'\r\n",
                "\r\n",
                "    GRANT ALTER ANY LOGIN TO secondTester AS accessTest;\r\n",
                "\r\n",
                "BEGIN\r\n",
                "    EXECUTE AS LOGIN = 'secondTester'\r\n",
                "\r\n",
                "    CREATE LOGIN myOtherNewLogin WITH PASSWORD = 'stilldontcare'\r\n",
                "\r\n",
                "    REVERT\r\n",
                "END\r\n",
                "\r\n",
                "REVERT"
            ],
            "metadata": {
                "azdata_cell_guid": "90e0e242-392b-44ab-a551-fb864f008670",
                "tags": [
                    "hide_input"
                ]
            },
            "outputs": [],
            "execution_count": null
        },
        {
            "cell_type": "code",
            "source": [
                "/*  works the same in databases */\r\n",
                "USE WideWorldImporters;\r\n",
                "\r\n",
                "SELECT [principal_id], [name], [type_desc], [owning_principal_id], [is_fixed_role]\r\n",
                "FROM [sys].[database_principals]\r\n",
                "WHERE ([principal_id] IN (0,1,2,3,4,14,15)) \r\n",
                "    OR (type_desc = 'DATABASE_ROLE' AND [name] LIKE 'db%')\r\n",
                "ORDER BY [is_fixed_role], [name];\r\n",
                "\r\n",
                "SELECT [drm].[role_principal_id], [dbroles].[name] AS [Role Name], [drm].[member_principal_id], ISNULL ([roleMember].[name], 'No members') AS [Server Principal]   \r\n",
                "FROM [sys].[database_role_members] AS [drm]\r\n",
                "    RIGHT OUTER JOIN [sys].[database_principals] AS [dbroles] ON [drm].[role_principal_id] = [dbroles].[principal_id]  \r\n",
                " LEFT OUTER JOIN [sys].[database_principals] AS [roleMember]  \r\n",
                "   ON [drm].[member_principal_id] = [roleMember].[principal_id]  \r\n",
                "WHERE [dbroles].[type] = 'R'\r\n",
                "    AND [dbroles].[name] LIKE 'db%'\r\n",
                "ORDER BY [dbroles].[name], [roleMember].[name];"
            ],
            "metadata": {
                "azdata_cell_guid": "ca05701b-846d-4ae4-9980-d984e9424320",
                "tags": [
                    "hide_input"
                ]
            },
            "outputs": [],
            "execution_count": null
        },
        {
            "cell_type": "code",
            "source": [
                "/*  granting permissions */\r\n",
                "USE WideWorldImporters;\r\n",
                "GO\r\n",
                "\r\n",
                "CREATE USER accessTest FOR LOGIN accessTest;\r\n",
                "\r\n",
                "EXECUTE AS LOGIN = 'accessTest';\r\n",
                "\r\n",
                "BEGIN TRY\r\n",
                "    SELECT TOP (10) *\r\n",
                "    FROM Sales.Orders;\r\n",
                "END TRY\r\n",
                "BEGIN CATCH\r\n",
                "    PRINT 'Nae Luck!';\r\n",
                "END CATCH\r\n",
                "\r\n",
                "REVERT;\r\n",
                "\r\n",
                "GRANT SELECT ON Sales.Orders TO accessTest;\r\n",
                "\r\n",
                "EXECUTE AS LOGIN = 'accessTest';\r\n",
                "\r\n",
                "BEGIN TRY\r\n",
                "    SELECT TOP (10) *\r\n",
                "    FROM Sales.Orders;\r\n",
                "END TRY\r\n",
                "BEGIN CATCH\r\n",
                "    PRINT 'Still Nae Luck!';\r\n",
                "END CATCH\r\n",
                "\r\n",
                "REVERT;\r\n",
                "\r\n",
                "REVOKE SELECT ON Sales.ORders TO accessTest;\r\n",
                ""
            ],
            "metadata": {
                "azdata_cell_guid": "3279bdba-1a1e-47e6-b266-852c464130cd",
                "tags": [
                    "hide_input"
                ]
            },
            "outputs": [],
            "execution_count": null
        },
        {
            "cell_type": "code",
            "source": [
                "/*  sharing permissions */\r\n",
                "USE WideWorldImporters;\r\n",
                "GO\r\n",
                "\r\n",
                "GRANT SELECT ON Sales.Orders TO accessTest WITH GRANT OPTION;\r\n",
                "\r\n",
                "EXECUTE AS LOGIN = 'accessTest';\r\n",
                "\r\n",
                "    EXECUTE AS LOGIN = 'secondTester';\r\n",
                "\r\n",
                "    BEGIN TRY\r\n",
                "        SELECT TOP (10) *\r\n",
                "        FROM Sales.Orders;\r\n",
                "    END TRY\r\n",
                "    BEGIN CATCH\r\n",
                "        PRINT 'Nae Luck for the second tester!';\r\n",
                "    END CATCH\r\n",
                "\r\n",
                "    REVERT\r\n",
                "\r\n",
                "    GRANT SELECT ON Sales.Orders TO secondTester;\r\n",
                "\r\n",
                "    EXECUTE AS LOGIN = 'secondTester';\r\n",
                "\r\n",
                "    BEGIN TRY\r\n",
                "        SELECT TOP (10) *\r\n",
                "        FROM Sales.Orders;\r\n",
                "    END TRY\r\n",
                "    BEGIN CATCH\r\n",
                "        PRINT 'Still Nae Luck for the second tester!';\r\n",
                "    END CATCH\r\n",
                "\r\n",
                "    REVERT;\r\n",
                "\r\n",
                "REVERT;\r\n",
                ""
            ],
            "metadata": {
                "azdata_cell_guid": "6ec786c7-41ca-4782-a36d-f6f4e147b25e",
                "tags": [
                    "hide_input"
                ]
            },
            "outputs": [],
            "execution_count": null
        },
        {
            "cell_type": "code",
            "source": [
                "/* permissions are chained! */\r\n",
                "\r\n",
                "REVOKE SELECT ON Sales.Orders FROM accessTest;"
            ],
            "metadata": {
                "azdata_cell_guid": "ec1a5ff2-f855-4fbc-a09e-7b46602032f2",
                "tags": [
                    "hide_input"
                ]
            },
            "outputs": [],
            "execution_count": null
        },
        {
            "cell_type": "code",
            "source": [
                "/* Properly Removed! */\r\n",
                "USE WideWorldImporters\r\n",
                "GO\r\n",
                "\r\n",
                "REVOKE SELECT ON Sales.Orders TO accessTest CASCADE;\r\n",
                "\r\n",
                "/* WARNING! REVOKES ALL GRANTS _AND_DENYS! */\r\n",
                "GO\r\n",
                "\r\n",
                "EXECUTE AS LOGIN = 'accessTest';\r\n",
                "\r\n",
                "BEGIN TRY\r\n",
                "    SELECT TOP (10) *\r\n",
                "    FROM Sales.Orders;\r\n",
                "END TRY\r\n",
                "BEGIN CATCH\r\n",
                "    PRINT 'Nae Luck!';\r\n",
                "END CATCH\r\n",
                "\r\n",
                "REVERT;\r\n",
                "\r\n",
                "EXECUTE AS LOGIN = 'secondTester';\r\n",
                "\r\n",
                "BEGIN TRY\r\n",
                "    SELECT TOP (10) *\r\n",
                "    FROM Sales.Orders;\r\n",
                "END TRY\r\n",
                "BEGIN CATCH\r\n",
                "    PRINT 'Nae Luck for the second tester!';\r\n",
                "END CATCH\r\n",
                "\r\n",
                "REVERT"
            ],
            "metadata": {
                "azdata_cell_guid": "69c2a63c-88a0-4a4e-98ce-6783baa906e6",
                "tags": [
                    "hide_input"
                ]
            },
            "outputs": [],
            "execution_count": null
        },
        {
            "cell_type": "code",
            "source": [
                "/*  How effective are denies? */\r\n",
                "USE WideWorldImporters;\r\n",
                "GO\r\n",
                "\r\n",
                "ALTER ROLE db_owner ADD MEMBER accessTest;\r\n",
                "GO\r\n",
                "\r\n",
                "DENY SELECT ON Sales.Orders TO accessTest;\r\n",
                "\r\n",
                "EXECUTE AS LOGIN = 'accessTest'\r\n",
                "\r\n",
                "BEGIN TRY\r\n",
                "    SELECT TOP (10) *\r\n",
                "    FROM Sales.Orders;\r\n",
                "END TRY\r\n",
                "BEGIN CATCH\r\n",
                "    PRINT 'NO SALES ORDERS FOR YOU!'\r\n",
                "END CATCH\r\n",
                "\r\n",
                "SELECT TOP (5) *\r\n",
                "FROM Sales.Invoices;\r\n",
                "\r\n",
                "REVERT\r\n",
                ""
            ],
            "metadata": {
                "azdata_cell_guid": "5d81653c-51ac-4c03-a8f1-2ea650a85353",
                "tags": [
                    "hide_input"
                ]
            },
            "outputs": [],
            "execution_count": null
        },
        {
            "cell_type": "code",
            "source": [
                "/*  Does it hold up for sysadmins? */\r\n",
                "ALTER SERVER ROLE sysadmin ADD MEMBER accessTest;\r\n",
                "\r\n",
                "USE WideWorldImporters;\r\n",
                "GO\r\n",
                "\r\n",
                "EXECUTE AS LOGIN = 'accessTest'\r\n",
                "\r\n",
                "BEGIN TRY\r\n",
                "    SELECT TOP (10) *\r\n",
                "    FROM Sales.Orders;\r\n",
                "END TRY\r\n",
                "BEGIN CATCH\r\n",
                "    PRINT 'NO SALES ORDERS FOR YOU!'\r\n",
                "END CATCH\r\n",
                "\r\n",
                "SELECT TOP (5) *\r\n",
                "FROM Sales.Invoices;\r\n",
                "\r\n",
                "REVERT\r\n",
                "\r\n",
                "ALTER SERVER ROLE  sysadmin DROP MEMBER accessTest;"
            ],
            "metadata": {
                "azdata_cell_guid": "7ecd542d-e8d9-4837-b809-54a5c924b285",
                "tags": [
                    "hide_input"
                ]
            },
            "outputs": [],
            "execution_count": null
        },
        {
            "cell_type": "code",
            "source": [
                "/*  object owner is like a mini-sa permission */\r\n",
                "USE WideWorldImporters;\r\n",
                "GO\r\n",
                "\r\n",
                "ALTER ROLE db_owner ADD MEMBER accessTest;\r\n",
                "GO\r\n",
                "\r\n",
                "EXECUTE AS LOGIN = 'accessTest'\r\n",
                "\r\n",
                "BEGIN TRY\r\n",
                "    SELECT TOP (10) *\r\n",
                "    FROM Sales.Orders;\r\n",
                "END TRY\r\n",
                "BEGIN CATCH\r\n",
                "    PRINT 'NO SALES ORDERS FOR YOU!'\r\n",
                "END CATCH\r\n",
                "\r\n",
                "SELECT TOP (5) *\r\n",
                "FROM Sales.Invoices;\r\n",
                "\r\n",
                "REVERT\r\n",
                "\r\n",
                "SELECT [drm].[role_principal_id], [dbroles].[name] AS [Role Name], [drm].[member_principal_id], ISNULL ([roleMember].[name], 'No members') AS [Server Principal]   \r\n",
                "FROM [sys].[database_role_members] AS [drm]\r\n",
                "    RIGHT OUTER JOIN [sys].[database_principals] AS [dbroles] ON [drm].[role_principal_id] = [dbroles].[principal_id]  \r\n",
                " LEFT OUTER JOIN [sys].[database_principals] AS [roleMember]  \r\n",
                "   ON [drm].[member_principal_id] = [roleMember].[principal_id]  \r\n",
                "WHERE [dbroles].[type] = 'R'\r\n",
                "    AND [dbroles].[name] LIKE 'db%'\r\n",
                "ORDER BY [dbroles].[name], [roleMember].[name];\r\n",
                "\r\n",
                "ALTER ROLE db_owner DROP MEMBER accessTest;\r\n",
                ""
            ],
            "metadata": {
                "azdata_cell_guid": "049da83e-2a33-4cdc-8938-1f5092185862",
                "tags": [
                    "hide_input"
                ]
            },
            "outputs": [],
            "execution_count": null
        },
        {
            "cell_type": "markdown",
            "source": [
                "## Server Level Roles\r\n",
                "\r\n",
                "Why would we create a custom server level role?\r\n",
                "\r\n",
                "* allow applications to create/drop their own databases (but **only** their own databases). Unfortunately db_creator grants permissions ALTER ANY DATABASE and CREATE ANY DATABASE which would allow an application to drop _any_ database on the instance.\r\n",
                "* allow developers access to diagnostic information without exposing other permissions.\r\n",
                "\r\n",
                ""
            ],
            "metadata": {
                "azdata_cell_guid": "2f684277-d331-4040-988c-21c20c429971"
            }
        },
        {
            "cell_type": "code",
            "source": [
                "\r\n",
                "/* Our application needs db_creator to create databases as needed... */\r\n",
                "USE master;\r\n",
                "GO\r\n",
                "\r\n",
                "CREATE LOGIN testdbCreator WITH PASSWORD = 'soSecure';\r\n",
                "ALTER SERVER ROLE dbcreator ADD MEMBER testdbCreator;"
            ],
            "metadata": {
                "azdata_cell_guid": "ca0c3609-2c3e-4915-a394-45345710504c",
                "tags": [
                    "hide_input"
                ]
            },
            "outputs": [],
            "execution_count": null
        },
        {
            "cell_type": "code",
            "source": [
                "\r\n",
                "/* Works great! */\r\n",
                "\r\n",
                "GO\r\n",
                "\r\n",
                "EXECUTE AS LOGIN = 'testdbCreator';\r\n",
                "\r\n",
                "CREATE DATABASE safeToDrop;\r\n",
                "\r\n",
                "--DROP DATABASE safeToDrop;\r\n",
                "\r\n",
                "REVERT;"
            ],
            "metadata": {
                "azdata_cell_guid": "bd29291e-d207-4186-925f-97e16efc8fbb",
                "tags": [
                    "hide_input"
                ]
            },
            "outputs": [],
            "execution_count": null
        },
        {
            "cell_type": "code",
            "source": [
                "\r\n",
                "/*  But wait!\r\n",
                "    ALTER ANY DATABASE permissions are too much! */\r\n",
                "EXECUTE AS LOGIN = 'testdbCreator';\r\n",
                "\r\n",
                "BEGIN TRY\r\n",
                "    CREATE DATABASE safeToDrop;\r\n",
                "    PRINT 'Created database safeToDrop...'\r\n",
                "    \r\n",
                "    DROP DATABASE safeToDrop;\r\n",
                "    PRINT 'Dropped database safeToDrop...'\r\n",
                "\r\n",
                "    /* this should always fail! */\r\n",
                "    DROP DATABASE neverDrop;\r\n",
                "    PRINT 'Oops: Dropped database neverDrop!'\r\n",
                "\r\n",
                "END TRY\r\n",
                "BEGIN CATCH\r\n",
                "    PRINT 'neverDrop DB should be safe.'\r\n",
                "END CATCH\r\n",
                "\r\n",
                "REVERT;"
            ],
            "metadata": {
                "azdata_cell_guid": "9e76d5b6-833b-4c5e-8d88-e4bf52478d32",
                "tags": [
                    "hide_input"
                ]
            },
            "outputs": [],
            "execution_count": null
        },
        {
            "cell_type": "code",
            "source": [
                "\r\n",
                "/*  Reset \r\n",
                "    NeverDrop and create a custom role! */\r\n",
                "CREATE DATABASE neverDrop;\r\n",
                "GO\r\n",
                "\r\n",
                "CREATE SERVER ROLE [crole_CreateDB];\r\n",
                "GO\r\n",
                "\r\n",
                "GRANT CREATE ANY DATABASE TO [crole_CreateDB];\r\n",
                "GO\r\n",
                "\r\n",
                "ALTER SERVER ROLE dbcreator DROP MEMBER testdbCreator;\r\n",
                "GO\r\n",
                "ALTER SERVER ROLE crole_CreateDB ADD MEMBER testdbCreator;\r\n",
                "GO\r\n",
                "\r\n",
                "EXECUTE AS LOGIN = 'testdbCreator';\r\n",
                "CREATE DATABASE safeToDrop;\r\n",
                "REVERT;"
            ],
            "metadata": {
                "azdata_cell_guid": "86538289-9d33-454f-9cc2-c340ec88a07f",
                "tags": [
                    "hide_input"
                ]
            },
            "outputs": [],
            "execution_count": null
        },
        {
            "cell_type": "code",
            "source": [
                "\r\n",
                "/*  Specific Permission is Specific:\r\n",
                "    CREATE ANY DATABASE is just right...*/\r\n",
                "BEGIN TRY\r\n",
                "    EXECUTE AS LOGIN = 'testdbCreator';\r\n",
                "\r\n",
                "    DROP DATABASE safeToDrop;\r\n",
                "    PRINT 'Dropped database safeToDrop...'\r\n",
                "\r\n",
                "    /* this should always fail! */\r\n",
                "    DROP DATABASE neverDrop;\r\n",
                "    PRINT 'Oops: Dropped database neverDrop!'\r\n",
                "\r\n",
                "END TRY\r\n",
                "BEGIN CATCH\r\n",
                "    PRINT 'neverDrop DB should be safe.'\r\n",
                "END CATCH\r\n",
                "\r\n",
                "REVERT;"
            ],
            "metadata": {
                "azdata_cell_guid": "79ec61c6-dbdf-4bf5-bf60-1faa4c015d3c",
                "tags": [
                    "hide_input"
                ]
            },
            "outputs": [],
            "execution_count": null
        },
        {
            "cell_type": "code",
            "source": [
                "\r\n",
                "/* Now Chad needs SA!?? */\r\n",
                "CREATE LOGIN Chad WITH PASSWORD = 'soSecure2';\r\n",
                "ALTER SERVER ROLE [serveradmin] ADD MEMBER Chad;\r\n",
                "GO\r\n",
                "\r\n",
                "EXECUTE AS LOGIN = 'Chad';\r\n",
                "BEGIN TRY\r\n",
                "\r\n",
                "    SELECT TOP (10) wait_type, wait_time_ms \r\n",
                "    FROM sys.dm_os_wait_stats ORDER BY wait_time_ms DESC\r\n",
                "    PRINT 'Chad has retrieved useful wait stats from the server!'\r\n",
                "\r\n",
                "    EXEC sp_configure 'show advanced options', 1\r\n",
                "    PRINT 'Chad has access advanced server options!'\r\n",
                "    RECONFIGURE\r\n",
                "    \r\n",
                "    EXEC sp_configure 'max degree of parallelism', 24\r\n",
                "    PRINT 'Chad has created a parallelism problem!'\r\n",
                "    RECONFIGURE WITH OVERRIDE\r\n",
                "\r\n",
                "END TRY\r\n",
                "BEGIN CATCH\r\n",
                "    PRINT 'You don''t have permission for that!'\r\n",
                "END CATCH\r\n",
                "\r\n",
                "REVERT;\r\n",
                "GO\r\n",
                ""
            ],
            "metadata": {
                "azdata_cell_guid": "3ede872e-8c38-4a9c-aa13-5542d769aaa8",
                "tags": [
                    "hide_input"
                ]
            },
            "outputs": [],
            "execution_count": null
        },
        {
            "cell_type": "code",
            "source": [
                "\r\n",
                "/* Cleaning up after Chad... */\r\n",
                "USE master;\r\n",
                "\r\n",
                "ALTER SERVER ROLE [serveradmin] DROP MEMBER Chad;\r\n",
                "\r\n",
                "EXEC sp_configure 'Show advanced Options', 1;\r\n",
                "RECONFIGURE\r\n",
                "\r\n",
                "EXEC sp_configure 'max degree of parallelism', 2;\r\n",
                "EXEC sp_configure 'show advanced options', 0;\r\n",
                "RECONFIGURE;\r\n",
                "GO\r\n",
                "\r\n",
                "CREATE SERVER ROLE crole_Troubleshooting;\r\n",
                "GO\r\n",
                "\r\n",
                "GRANT VIEW SERVER STATE TO crole_Troubleshooting;\r\n",
                "-- maybe Chad wants to use SQL Profiler (gross!)\r\n",
                "GRANT ALTER TRACE TO crole_Troubleshooting;\r\n",
                "-- team Extended Events all the way! 😎\r\n",
                "GRANT ALTER ANY EVENT SESSION TO crole_Troubleshooting;\r\n",
                "\r\n",
                "ALTER SERVER ROLE crole_Troubleshooting ADD MEMBER Chad;\r\n",
                "GO"
            ],
            "metadata": {
                "azdata_cell_guid": "94dcaf97-8f37-4a55-99a5-967ce07a911f",
                "tags": [
                    "hide_input"
                ]
            },
            "outputs": [],
            "execution_count": null
        },
        {
            "cell_type": "code",
            "source": [
                "\r\n",
                "/*  Chad can see what's wrong but is not empowerd \r\n",
                "    to be \"creative\" with his solutions. */\r\n",
                "EXECUTE AS LOGIN = 'Chad';\r\n",
                "BEGIN TRY\r\n",
                "    SELECT TOP (10) wait_type, wait_time_ms \r\n",
                "    FROM sys.dm_os_wait_stats ORDER BY wait_time_ms DESC\r\n",
                "    PRINT 'Chad has retrieved useful wait stats from the server!'\r\n",
                "\r\n",
                "    EXEC sp_configure 'show advanced options', 1\r\n",
                "    PRINT 'Chad has access advanced server options!'\r\n",
                "    RECONFIGURE\r\n",
                "    \r\n",
                "    EXEC sp_configure 'max degree of parallelism', 24\r\n",
                "    PRINT 'Chad has created a parallelism problem!'\r\n",
                "    RECONFIGURE WITH OVERRIDE\r\n",
                "\r\n",
                "END TRY\r\n",
                "BEGIN CATCH\r\n",
                "    PRINT 'You don''t have permission for that!'\r\n",
                "END CATCH\r\n",
                "\r\n",
                "REVERT;\r\n",
                "GO"
            ],
            "metadata": {
                "azdata_cell_guid": "ec8d2425-f6ee-4ec6-9073-a868a4161963",
                "tags": [
                    "hide_input"
                ]
            },
            "outputs": [],
            "execution_count": null
        },
        {
            "cell_type": "markdown",
            "source": [
                "## Database Level Roles\r\n",
                "\r\n",
                "Database roles allow us to control access to data and procedures in each specific database including:\r\n",
                "\r\n",
                "* Allow or deny access to data,\r\n",
                "* allow write access to data,\r\n",
                "* create or delete database objects."
            ],
            "metadata": {
                "azdata_cell_guid": "193e814b-d18c-4ed9-998b-f4e4c7c58a29"
            }
        },
        {
            "cell_type": "code",
            "source": [
                "\r\n",
                "/* Chad needs to do some research on the data though...*/\r\n",
                "ALTER SERVER ROLE crole_Troubleshooting DROP MEMBER [Chad]\r\n",
                "GO\r\n",
                "\r\n",
                "EXECUTE AS LOGIN = 'Chad';\r\n",
                "BEGIN TRY\r\n",
                "\r\n",
                "    USE WideWorldImporters;\r\n",
                "\r\n",
                "    SELECT dm.DeliveryMethodName\r\n",
                "        , dm.validFrom\r\n",
                "        , dm.ValidTo\r\n",
                "        , p.preferredName\r\n",
                "    FROM application.People p JOIN application.DeliveryMethods dm ON dm.LastEditedBy = p.PersonID;\r\n",
                "\r\n",
                "END TRY\r\n",
                "BEGIN CATCH\r\n",
                "    PRINT ERROR_MESSAGE();\r\n",
                "END CATCH\r\n",
                "\r\n",
                "REVERT;\r\n",
                "GO"
            ],
            "metadata": {
                "azdata_cell_guid": "33a426ff-64b3-478c-9bbe-ea73c94b43d0",
                "tags": [
                    "hide_input"
                ]
            },
            "outputs": [],
            "execution_count": null
        },
        {
            "cell_type": "code",
            "source": [
                "\r\n",
                "/*  Just becuase we grant him read doesn't \r\n",
                "    mean he can get what he needs though! */\r\n",
                "\r\n",
                "USE [WideWorldImporters]\r\n",
                "GO\r\n",
                "\r\n",
                "CREATE USER [Chad] FOR LOGIN [Chad]\r\n",
                "GO\r\n",
                "ALTER ROLE [db_datareader] ADD MEMBER [Chad]\r\n",
                "GO\r\n",
                "\r\n",
                "\r\n",
                "EXECUTE AS LOGIN = 'Chad';\r\n",
                "BEGIN TRY\r\n",
                "\r\n",
                "    USE WideWorldImporters;\r\n",
                "\r\n",
                "    SELECT p.PurchaseOrderID,\r\n",
                "       p.OrderDate,\r\n",
                "       s.SupplierName,\r\n",
                "       pc.FullName,\r\n",
                "       pc.PreferredName\r\n",
                "    FROM Purchasing.PurchaseOrders p\r\n",
                "    JOIN Purchasing.Suppliers s\r\n",
                "        ON p.SupplierID = s.SupplierID\r\n",
                "    JOIN Application.People AS pc\r\n",
                "        ON pc.PersonID = s.PrimaryContactPersonID\r\n",
                "    WHERE p.OrderDate >= '2010-01-01'\r\n",
                "      AND p.OrderDate < '2014-01-01'\r\n",
                "    ORDER BY p.OrderDate DESC;\r\n",
                "\r\n",
                "    EXEC Integration.GetOrderUpdates @LastCutoff = '2010-01-01',\r\n",
                "                                 @NewCutoff = '2014-01-01';\r\n",
                "\r\n",
                "END TRY\r\n",
                "BEGIN CATCH\r\n",
                "    PRINT ERROR_MESSAGE();\r\n",
                "END CATCH\r\n",
                "\r\n",
                "REVERT;\r\n",
                "GO"
            ],
            "metadata": {
                "azdata_cell_guid": "f907083c-5e0c-454c-8b65-b7adf2cbbbef",
                "tags": [
                    "hide_input"
                ]
            },
            "outputs": [],
            "execution_count": null
        },
        {
            "cell_type": "code",
            "source": [
                "\r\n",
                "/* Executing procedures and functions have their own permission */\r\n",
                "USE WideWorldImporters;\r\n",
                "GO\r\n",
                "GRANT EXECUTE ON OBJECT::Integration.GetOrderUpdates TO Chad;\r\n",
                "GO\r\n",
                "\r\n",
                "EXECUTE AS LOGIN = 'Chad';\r\n",
                "BEGIN TRY\r\n",
                "\r\n",
                "    USE WideWorldImporters;\r\n",
                "\r\n",
                "    EXEC Integration.GetOrderUpdates @LastCutoff = '2010-01-01',\r\n",
                "                                 @NewCutoff = '2014-01-01';\r\n",
                "\r\n",
                "END TRY\r\n",
                "BEGIN CATCH\r\n",
                "    PRINT ERROR_MESSAGE();\r\n",
                "END CATCH\r\n",
                "\r\n",
                "REVERT;\r\n",
                "GO"
            ],
            "metadata": {
                "azdata_cell_guid": "c8e23cab-53a9-45c9-ad0e-b9dc0324a596",
                "tags": [
                    "hide_input"
                ]
            },
            "outputs": [],
            "execution_count": null
        },
        {
            "cell_type": "code",
            "source": [
                "\r\n",
                "/*  Can't troubleshoot without an execution plan.\r\n",
                "    Run Chad's Query FIRST */\r\n",
                "USE WideWorldImporters;\r\n",
                "GO\r\n",
                "\r\n",
                "GRANT SHOWPLAN TO Chad;\r\n",
                ""
            ],
            "metadata": {
                "azdata_cell_guid": "f1549506-bed6-40a8-b78b-4ef6edd8b840",
                "tags": [
                    "hide_input"
                ]
            },
            "outputs": [],
            "execution_count": null
        },
        {
            "cell_type": "markdown",
            "source": [
                "## Implementing Database Roles to Simplify Data Access\r\n",
                "* Just like server level roles but for databases!"
            ],
            "metadata": {
                "azdata_cell_guid": "8d238be8-4da3-4b5f-bb8c-c73ae23f3238"
            }
        },
        {
            "cell_type": "code",
            "source": [
                "\r\n",
                "/* Way more columns than report writers need! */\r\n",
                "USE AdvWorksDW;\r\n",
                "GO\r\n",
                "\r\n",
                "SELECT TOP (100) [AccountKey]\r\n",
                "      ,[ParentAccountKey]\r\n",
                "      ,[AccountCodeAlternateKey]\r\n",
                "      ,[ParentAccountCodeAlternateKey]\r\n",
                "      ,[AccountDescription]\r\n",
                "      ,[AccountType]\r\n",
                "      ,[Operator]\r\n",
                "      ,[CustomMembers]\r\n",
                "      ,[ValueType]\r\n",
                "      ,[CustomMemberOptions]\r\n",
                "      ,[ETL_NATRL_KEY_TXT]\r\n",
                "      ,[ETL_VERS_START_DTM]\r\n",
                "      ,[ETL_VERS_END_DTM]\r\n",
                "      ,[ETL_VERS_CURR_FLAG]\r\n",
                "      ,[ETL_JOB_SEQ_NUM]\r\n",
                "      ,[ETL_SRC_SYS_NM]\r\n",
                "      ,[ETL_SRC_TABLE_NM]\r\n",
                "      ,[ETL_IUD_CD]\r\n",
                "      ,[ETL_SNAPSHOT_DTM]\r\n",
                "      ,[ETL_INS_DTM]\r\n",
                "      ,[ETL_INS_JOB_NM]\r\n",
                "      ,[ETL_UPD_DTM]\r\n",
                "      ,[ETL_UPD_JOB_NM]\r\n",
                "      ,[ETL_UPD_ROWVERSION]\r\n",
                "      ,[ETL_DEL_DTM]\r\n",
                "      ,[ETL_CHG_CNTRL_CHECKSUM]\r\n",
                "      ,[ETL_CHG_CNTRL_2_CHECKSUM]\r\n",
                "      ,[ETL_CHG_CNTRL_3_CHECKSUM]\r\n",
                "  FROM [AdvWorksDW].[dbo].[DimAccount]"
            ],
            "metadata": {
                "azdata_cell_guid": "442ba9b7-233f-4a41-8df4-458c02bcaf64",
                "tags": [
                    "hide_input"
                ]
            },
            "outputs": [],
            "execution_count": null
        },
        {
            "cell_type": "code",
            "source": [
                "\r\n",
                "/* simplified for reporting */\r\n",
                "USE AdvWorksDWViews;\r\n",
                "GO\r\n",
                "/*\r\n",
                "\r\n",
                " <-- let's expand and look at views in my alternate univers database\r\n",
                "\r\n",
                "*/\r\n",
                "CREATE USER [Chad] FOR LOGIN [Chad]\r\n",
                "GO\r\n",
                "\r\n",
                "GRANT SELECT ON SCHEMA::rpt to Chad;\r\n",
                "GO\r\n",
                "\r\n",
                "EXECUTE AS LOGIN = 'Chad';\r\n",
                "\r\n",
                "    SELECT AccountKey\r\n",
                "        , AccountType\r\n",
                "        , AccountDescription\r\n",
                "        , AccountType\r\n",
                "    --    , ETL_SRC_TABLE\r\n",
                "    FROM rpt.dimAccount\r\n",
                "\r\n",
                "    SELECT *\r\n",
                "    FROM dbo.dimAccount\r\n",
                "\r\n",
                "REVERT;"
            ],
            "metadata": {
                "azdata_cell_guid": "6e30ffe7-44d5-431d-9f12-fb40437ac6c5",
                "tags": [
                    "hide_input"
                ]
            },
            "outputs": [],
            "execution_count": null
        },
        {
            "cell_type": "code",
            "source": [
                "\r\n",
                "/* restricted information is easier to contain! */\r\n",
                "/*\r\n",
                "\r\n",
                " <-- let's expand and look at views in my alternate univers database\r\n",
                "\r\n",
                "*/\r\n",
                "USE AdvWorksDWViews;\r\n",
                "GO\r\n",
                "\r\n",
                "EXECUTE AS LOGIN = 'Chad';\r\n",
                "\r\n",
                "BEGIN TRY\r\n",
                "    SELECT *\r\n",
                "    FROM rpt.dimEmployee\r\n",
                "\r\n",
                "    SELECT *\r\n",
                "    FROM secureRpt.dimEmployee\r\n",
                "END TRY\r\n",
                "BEGIN CATCH\r\n",
                "    PRINT ERROR_MESSAGE();\r\n",
                "END CATCH\r\n",
                "\r\n",
                "REVERT;"
            ],
            "metadata": {
                "azdata_cell_guid": "82502e31-64d3-40d7-8e20-7984876ab3f5",
                "tags": [
                    "hide_input"
                ]
            },
            "outputs": [],
            "execution_count": null
        },
        {
            "cell_type": "code",
            "source": [
                "\r\n",
                "/* create our HR user */\r\n",
                "USE master;\r\n",
                "CREATE LOGIN SusanInHR WITH PASSWORD = 'soSecure3';\r\n",
                "\r\n",
                "USE AdvWorksDWViews;\r\n",
                "GO\r\n",
                "CREATE USER [SusanInHR] FOR LOGIN [SusanInHR]\r\n",
                "GO\r\n",
                "\r\n",
                "GRANT SELECT ON SCHEMA::rpt to SusanInHR;\r\n",
                "GO\r\n",
                "\r\n",
                "GRANT SELECT ON SCHEMA::secureRpt to SusanInHR;\r\n",
                "GO"
            ],
            "metadata": {
                "azdata_cell_guid": "93ac7f48-2117-4569-a84e-7b880beb97ec",
                "tags": [
                    "hide_input"
                ]
            },
            "outputs": [],
            "execution_count": null
        },
        {
            "cell_type": "code",
            "source": [
                "\r\n",
                "/* restricted information is available to those with access only! */\r\n",
                "USE AdvWorksDWViews;\r\n",
                "GO\r\n",
                "\r\n",
                "EXECUTE AS LOGIN = 'SusanInHr'\r\n",
                "    SELECT *\r\n",
                "    FROM rpt.dimEmployee\r\n",
                "\r\n",
                "    SELECT *\r\n",
                "    FROM secureRpt.dimEmployee\r\n",
                "REVERT;"
            ],
            "metadata": {
                "azdata_cell_guid": "50b7b656-aa48-497a-a7af-38377771a0d8",
                "tags": [
                    "hide_input"
                ]
            },
            "outputs": [],
            "execution_count": null
        },
        {
            "cell_type": "code",
            "source": [
                "\r\n",
                "/* Clean up user permissions and make this much more managable */\r\n",
                "\r\n",
                "USE [AdvWorksDWViews];\r\n",
                "GO\r\n",
                "REVOKE SELECT ON SCHEMA::[rpt] TO [Chad];\r\n",
                "GO\r\n",
                "\r\n",
                "REVOKE SELECT ON SCHEMA::[rpt] TO [SusanInHR];\r\n",
                "GO\r\n",
                "\r\n",
                "REVOKE SELECT ON SCHEMA::[secureRpt] TO [SusanInHR];\r\n",
                "GO\r\n",
                "\r\n",
                "CREATE ROLE [crole_StandardReports] AUTHORIZATION [dbo];\r\n",
                "GO\r\n",
                "GRANT SELECT ON SCHEMA::[rpt] TO [crole_StandardReports];\r\n",
                "GO\r\n",
                "\r\n",
                "CREATE ROLE [crole_SensitiveReports] AUTHORIZATION [dbo];\r\n",
                "GO\r\n",
                "GRANT SELECT ON SCHEMA::[secureRpt] TO [crole_SensitiveReports];\r\n",
                "GO\r\n",
                "\r\n",
                "ALTER ROLE [crole_SensitiveReports] ADD MEMBER [SusanInHR];\r\n",
                "GO\r\n",
                "\r\n",
                "ALTER ROLE [crole_StandardReports] ADD MEMBER [chad];\r\n",
                "GO\r\n",
                "\r\n",
                "ALTER ROLE [crole_StandardReports] ADD MEMBER [SusanInHR]\r\n",
                "GO"
            ],
            "metadata": {
                "azdata_cell_guid": "6202f7f1-711c-42f2-a1be-285406462b19",
                "tags": [
                    "hide_input"
                ]
            },
            "outputs": [],
            "execution_count": null
        },
        {
            "cell_type": "code",
            "source": [
                "\r\n",
                "/*  In the realworld Chad and Susan would be \r\n",
                "    nested inside the appropraite security groups! */\r\n",
                "USE AdvWorksDWViews;\r\n",
                "GO\r\n",
                "\r\n",
                "EXECUTE AS LOGIN = 'Chad';\r\n",
                "\r\n",
                "    SELECT 'Chad' AS uName, *\r\n",
                "    FROM rpt.dimEmployee\r\n",
                "\r\n",
                "    SELECT 'Chad' as uName, *\r\n",
                "    FROM secureRpt.dimEmployee\r\n",
                "    GO\r\n",
                "\r\n",
                "REVERT;\r\n",
                "\r\n",
                "EXECUTE AS LOGIN = 'SusanInHr'\r\n",
                "    SELECT 'Susan' AS uName, *\r\n",
                "    FROM rpt.dimEmployee\r\n",
                "\r\n",
                "    SELECT 'Susan' AS uName, *\r\n",
                "    FROM secureRpt.dimEmployee\r\n",
                "    GO\r\n",
                "\r\n",
                "REVERT;"
            ],
            "metadata": {
                "azdata_cell_guid": "1f3e4b06-9f15-4010-a053-34752e792d9f",
                "tags": [
                    "hide_input"
                ]
            },
            "outputs": [],
            "execution_count": null
        }
    ]
}