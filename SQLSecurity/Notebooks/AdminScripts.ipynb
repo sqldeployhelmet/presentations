{
    "metadata": {
        "kernelspec": {
            "name": "SQL",
            "display_name": "SQL",
            "language": "sql"
        },
        "language_info": {
            "name": "sql",
            "version": ""
        }
    },
    "nbformat_minor": 2,
    "nbformat": 4,
    "cells": [
        {
            "cell_type": "markdown",
            "source": [
                "## Server Level Roles\r\n",
                "\r\n",
                "Why would we create a custom server level role?\r\n",
                "\r\n",
                "* allow applications to create/drop their own databases (but **only** their own databases). Unfortunately db_creator grants permissions ALTER ANY DATABASE and CREATE ANY DATABASE which would allow an application to drop _any_ database on the instance.\r\n",
                "\r\n",
                ""
            ],
            "metadata": {
                "azdata_cell_guid": "2f684277-d331-4040-988c-21c20c429971"
            }
        },
        {
            "cell_type": "code",
            "source": [
                "CREATE LOGIN testdbCreator WITH PASSWORD = 'soSecure';\r\n",
                "ALTER SERVER ROLE dbcreator ADD MEMBER testdbCreator;\r\n",
                "GO\r\n",
                "\r\n",
                "CREATE DATABASE neverDrop;\r\n",
                "\r\n",
                "EXECUTE AS LOGIN = 'testdbCreator';\r\n",
                "    CREATE DATABASE safeToDrop;\r\n",
                "\r\n",
                "    DROP DATABASE safeToDrop;\r\n",
                "\r\n",
                "    DROP DATABASE neverDrop;\r\n",
                "REVERT;\r\n",
                "\r\n",
                "CREATE DATABASE neverDrop;\r\n",
                "\r\n",
                "EXECUTE AS LOGIN = 'croleTest';\r\n",
                "    CREATE DATABASE safeToDrop;\r\n",
                "\r\n",
                "    DROP DATABASE safeToDrop;\r\n",
                "\r\n",
                "    /* we would hope this would fail: */\r\n",
                "    DROP DATABASE neverDrop;\r\n",
                "REVERT;"
            ],
            "metadata": {
                "azdata_cell_guid": "bd29291e-d207-4186-925f-97e16efc8fbb"
            },
            "outputs": [],
            "execution_count": null
        },
        {
            "cell_type": "code",
            "source": [
                "ALTER SERVER ROLE crole_CreateDB ADD MEMBER testdbCreator;\r\n",
                "GO\r\n",
                "\r\n",
                "CREATE DATABASE neverDrop;\r\n",
                "\r\n",
                "EXECUTE AS LOGIN = 'testdbCreator';\r\n",
                "    CREATE DATABASE safeToDrop;\r\n",
                "\r\n",
                "    DROP DATABASE safeToDrop;\r\n",
                "\r\n",
                "    /* we would hope this would fail: */\r\n",
                "    DROP DATABASE neverDrop;\r\n",
                "REVERT;\r\n",
                "GO"
            ],
            "metadata": {
                "azdata_cell_guid": "79ec61c6-dbdf-4bf5-bf60-1faa4c015d3c"
            },
            "outputs": [],
            "execution_count": null
        },
        {
            "cell_type": "markdown",
            "source": [
                "* allow developers access to diagnostic information without exposing other permissions."
            ],
            "metadata": {
                "azdata_cell_guid": "b1efb5bb-06a4-4bef-b594-12fcf5042e8f"
            }
        },
        {
            "cell_type": "code",
            "source": [
                "CREATE LOGIN Broseph WITH PASSWORD = 'soSecure2';\r\n",
                "ALTER SERVER ROLE [serveradmin] ADD MEMBER Broseph;\r\n",
                "\r\n",
                "\r\n",
                "EXECUTE AS LOGIN = 'Broseph';\r\n",
                "BEGIN TRY\r\n",
                "    SELECT TOP (10) wait_type, wait_time_ms \r\n",
                "    FROM sys.dm_os_wait_stats ORDER BY wait_time_ms DESC\r\n",
                "\r\n",
                "    EXEC sp_configure 'show advanced options', 1;\r\n",
                "    RECONFIGURE;\r\n",
                "    \r\n",
                "    EXEC sp_configure 'max degree of parallelism', 24;\r\n",
                "    RECONFIGURE WITH OVERRIDE;\r\n",
                "END TRY\r\n",
                "BEGIN CATCH\r\n",
                "    PRINT 'You don''t have permission for that!'\r\n",
                "END CATCH\r\n",
                "\r\n",
                "REVERT;\r\n",
                "\r\n",
                ""
            ],
            "metadata": {
                "azdata_cell_guid": "3ede872e-8c38-4a9c-aa13-5542d769aaa8"
            },
            "outputs": [],
            "execution_count": null
        },
        {
            "cell_type": "code",
            "source": [
                "ALTER SERVER ROLE [serveradmin] DROP MEMBER Broseph;\r\n",
                "\r\n",
                "EXEC sp_configure 'max degree of parallelism', 4;\r\n",
                "EXEC sp_configure 'show advanced options', 0;\r\n",
                "RECONFIGURE;\r\n",
                "GO\r\n",
                "\r\n",
                "ALTER SERVER ROLE crole_Troubleshooting ADD MEMBER Broseph;\r\n",
                "\r\n",
                "EXECUTE AS LOGIN = 'Broseph';\r\n",
                "BEGIN TRY\r\n",
                "    SELECT TOP (10) wait_type, wait_time_ms \r\n",
                "    FROM sys.dm_os_wait_stats ORDER BY wait_time_ms DESC\r\n",
                "\r\n",
                "    EXEC sp_configure 'show advanced options', 1\r\n",
                "    RECONFIGURE\r\n",
                "    \r\n",
                "    EXEC sp_configure 'max degree of parallelism', 24\r\n",
                "    RECONFIGURE WITH OVERRIDE\r\n",
                "END TRY\r\n",
                "BEGIN CATCH\r\n",
                "    PRINT 'You don''t have permission for that!'\r\n",
                "END CATCH\r\n",
                "\r\n",
                "REVERT;"
            ],
            "metadata": {
                "azdata_cell_guid": "ec8d2425-f6ee-4ec6-9073-a868a4161963"
            },
            "outputs": [],
            "execution_count": null
        }
    ]
}