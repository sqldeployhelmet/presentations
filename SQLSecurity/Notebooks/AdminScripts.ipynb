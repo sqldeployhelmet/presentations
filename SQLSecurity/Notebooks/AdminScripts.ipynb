{
    "metadata": {
        "kernelspec": {
            "name": "SQL",
            "display_name": "SQL",
            "language": "sql"
        },
        "language_info": {
            "name": "sql",
            "version": ""
        }
    },
    "nbformat_minor": 2,
    "nbformat": 4,
    "cells": [
        {
            "cell_type": "markdown",
            "source": [
                "Admin Scripts for SQL Security. First we create our demo user the reckless programmer Broseph."
            ],
            "metadata": {
                "azdata_cell_guid": "2f684277-d331-4040-988c-21c20c429971"
            }
        },
        {
            "cell_type": "code",
            "source": [
                "USE [master]\r\n",
                "GO\r\n",
                "CREATE LOGIN [Broseph] WITH PASSWORD=N'yolo', DEFAULT_DATABASE=[BP_BabbyNames], CHECK_EXPIRATION=OFF, CHECK_POLICY=OFF\r\n",
                "GO\r\n",
                "\r\n",
                "USE [BP_BabbyNames]\r\n",
                "GO\r\n",
                "CREATE USER [Broseph] FOR LOGIN [Broseph]\r\n",
                "GO\r\n",
                "ALTER ROLE [db_owner] ADD MEMBER [Broseph]\r\n",
                "GO\r\n",
                "ALTER ROLE [db_datawriter] ADD MEMBER [Broseph]\r\n",
                "GO\r\n",
                "ALTER ROLE [db_datareader] ADD MEMBER [Broseph]\r\n",
                "GO\r\n",
                ""
            ],
            "metadata": {
                "azdata_cell_guid": "bd29291e-d207-4186-925f-97e16efc8fbb"
            },
            "outputs": [
                {
                    "output_type": "display_data",
                    "data": {
                        "text/html": "Commands completed successfully."
                    },
                    "metadata": {}
                },
                {
                    "output_type": "display_data",
                    "data": {
                        "text/html": "Mail (Id: 15) queued."
                    },
                    "metadata": {}
                },
                {
                    "output_type": "display_data",
                    "data": {
                        "text/html": "Commands completed successfully."
                    },
                    "metadata": {}
                },
                {
                    "output_type": "display_data",
                    "data": {
                        "text/html": "Commands completed successfully."
                    },
                    "metadata": {}
                },
                {
                    "output_type": "display_data",
                    "data": {
                        "text/html": "Commands completed successfully."
                    },
                    "metadata": {}
                },
                {
                    "output_type": "display_data",
                    "data": {
                        "text/html": "Total execution time: 00:00:00.087"
                    },
                    "metadata": {}
                }
            ],
            "execution_count": 1
        },
        {
            "cell_type": "markdown",
            "source": [
                "## Server Level Permissions\r\n",
                "\r\n",
                "Custom server roles are not terribly common. Generally if you actually need server wide permissions you end up with sys admin becuase you manage the instance. We do have a use case where we wanted to allow people permissions to help troubleshoot without actually opening up the server to them. The following role will allow a user to see server state (i.e. use whoisactive and access DMVs as well as see the definition of any object on the server). Uses in this role won't be able to alter any server settings or access any data unless they have specific permissions for those resources granted from other roles."
            ],
            "metadata": {
                "azdata_cell_guid": "1d29dc82-e6d2-4afa-a828-86ab48f9639b"
            }
        },
        {
            "cell_type": "code",
            "source": [
                "USE [master];\r\n",
                "GO\r\n",
                "\r\n",
                "CREATE SERVER ROLE [crole_DBDeveloper]\r\n",
                "GO\r\n",
                "\r\n",
                "GRANT VIEW SERVER STATE TO [crole_DBDeveloper]\r\n",
                "GO\r\n",
                "\r\n",
                "GRANT CONNECT ANY DATABASE TO [crole_DBDeveloper]\r\n",
                "GO\r\n",
                "\r\n",
                "GRANT VIEW ANY DEFINITION TO [crole_DBDeveloper]\r\n",
                "GO"
            ],
            "metadata": {
                "azdata_cell_guid": "7e59f689-52f5-496a-9d5e-b6091323b65a"
            },
            "outputs": [
                {
                    "output_type": "display_data",
                    "data": {
                        "text/html": "Commands completed successfully."
                    },
                    "metadata": {}
                },
                {
                    "output_type": "display_data",
                    "data": {
                        "text/html": "Commands completed successfully."
                    },
                    "metadata": {}
                },
                {
                    "output_type": "display_data",
                    "data": {
                        "text/html": "Commands completed successfully."
                    },
                    "metadata": {}
                },
                {
                    "output_type": "display_data",
                    "data": {
                        "text/html": "Commands completed successfully."
                    },
                    "metadata": {}
                },
                {
                    "output_type": "display_data",
                    "data": {
                        "text/html": "Commands completed successfully."
                    },
                    "metadata": {}
                },
                {
                    "output_type": "display_data",
                    "data": {
                        "text/html": "Total execution time: 00:00:00.127"
                    },
                    "metadata": {}
                }
            ],
            "execution_count": 3
        },
        {
            "cell_type": "code",
            "source": [
                "ALTER SERVER ROLE [crole_DBDeveloper] ADD MEMBER [Broseph]\r\n",
                "GO"
            ],
            "metadata": {
                "azdata_cell_guid": "6813ede6-8c27-4ab4-975d-d92bec7613d1"
            },
            "outputs": [
                {
                    "output_type": "display_data",
                    "data": {
                        "text/html": "Commands completed successfully."
                    },
                    "metadata": {}
                },
                {
                    "output_type": "display_data",
                    "data": {
                        "text/html": "Total execution time: 00:00:00.026"
                    },
                    "metadata": {}
                }
            ],
            "execution_count": 5
        },
        {
            "cell_type": "code",
            "source": [
                "USE master"
            ],
            "metadata": {
                "azdata_cell_guid": "2e8cd8d7-488b-4a96-bef2-cb007b5a9a31"
            },
            "outputs": [
                {
                    "output_type": "display_data",
                    "data": {
                        "text/html": "Commands completed successfully."
                    },
                    "metadata": {}
                },
                {
                    "output_type": "display_data",
                    "data": {
                        "text/html": "Total execution time: 00:00:00.010"
                    },
                    "metadata": {}
                }
            ],
            "execution_count": 4
        },
        {
            "cell_type": "markdown",
            "source": [
                ""
            ],
            "metadata": {
                "azdata_cell_guid": "47d17019-7f0b-4fae-9bba-0dd7c85e454e"
            }
        }
    ]
}